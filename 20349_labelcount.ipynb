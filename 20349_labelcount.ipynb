{
 "cells": [
  {
   "cell_type": "code",
   "execution_count": 9,
   "metadata": {},
   "outputs": [],
   "source": [
    "import pandas as pd"
   ]
  },
  {
   "cell_type": "code",
   "execution_count": 10,
   "metadata": {},
   "outputs": [],
   "source": [
    "\n",
    "# Load the CSV file into a pandas dataframe\n",
    "df = pd.read_csv('/Users/rajarshibhattacharjee/Documents/Sample test data/5080_54400_0_0.csv')\n"
   ]
  },
  {
   "cell_type": "code",
   "execution_count": 11,
   "metadata": {},
   "outputs": [],
   "source": [
    "\n",
    "# Group the data by the label column and count the number of points for each label\n",
    "label_counts = df.groupby(\"Label\")[\"Label\"].count()\n"
   ]
  },
  {
   "cell_type": "code",
   "execution_count": 12,
   "metadata": {},
   "outputs": [
    {
     "name": "stdout",
     "output_type": "stream",
     "text": [
      "Label 1: 197420 points\n",
      "Label 2: 161236 points\n",
      "Label 8: 138563 points\n",
      "Label 7: 686 points\n",
      "Label 0: 626 points\n",
      "Label 3: 397 points\n"
     ]
    }
   ],
   "source": [
    "\n",
    "# Print the number of points for each label in decreasing order\n",
    "label_counts = label_counts.sort_values(ascending=False)\n",
    "for label, count in label_counts.items():\n",
    "    print(f\"Label {label}: {count} points\")"
   ]
  },
  {
   "cell_type": "code",
   "execution_count": null,
   "metadata": {},
   "outputs": [],
   "source": []
  }
 ],
 "metadata": {
  "kernelspec": {
   "display_name": "base",
   "language": "python",
   "name": "python3"
  },
  "language_info": {
   "codemirror_mode": {
    "name": "ipython",
    "version": 3
   },
   "file_extension": ".py",
   "mimetype": "text/x-python",
   "name": "python",
   "nbconvert_exporter": "python",
   "pygments_lexer": "ipython3",
   "version": "3.8.8"
  },
  "orig_nbformat": 4
 },
 "nbformat": 4,
 "nbformat_minor": 2
}
