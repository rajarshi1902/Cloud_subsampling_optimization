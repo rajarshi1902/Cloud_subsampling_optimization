{
 "cells": [
  {
   "cell_type": "code",
   "execution_count": 11,
   "metadata": {},
   "outputs": [],
   "source": [
    "import numpy as np\n",
    "import pandas as pd\n",
    "from sklearn.tree import DecisionTreeRegressor\n"
   ]
  },
  {
   "cell_type": "code",
   "execution_count": 12,
   "metadata": {},
   "outputs": [],
   "source": [
    "# Load the data\n",
    "url = 'https://raw.githubusercontent.com/rajarshi1902/Cloud_subsampling_optimization/main/combinations2.csv'\n",
    "data = pd.read_csv(url)\n",
    "\n",
    "# Split into features and target\n",
    "X = data.iloc[:, :-1]\n",
    "y = data.iloc[:, -1]"
   ]
  },
  {
   "cell_type": "code",
   "execution_count": 13,
   "metadata": {},
   "outputs": [
    {
     "data": {
      "text/plain": [
       "DecisionTreeRegressor(random_state=0)"
      ]
     },
     "execution_count": 13,
     "metadata": {},
     "output_type": "execute_result"
    }
   ],
   "source": [
    "# Train a decision tree regressor\n",
    "regressor = DecisionTreeRegressor(random_state=0)\n",
    "regressor.fit(X.iloc[:, :3], y)"
   ]
  },
  {
   "cell_type": "code",
   "execution_count": 14,
   "metadata": {},
   "outputs": [],
   "source": [
    "# Get user input for desired m value\n",
    "while True:\n",
    "    desired_m = float(input('Enter desired value of m (between 0 and 1)(preferable b/w 0.3 and 0.8): '))\n",
    "    if desired_m <= 0 or desired_m >= 1:\n",
    "        print('Invalid input. Please enter a value between 0 and 1.')\n",
    "    else:\n",
    "        break"
   ]
  },
  {
   "cell_type": "code",
   "execution_count": 15,
   "metadata": {},
   "outputs": [
    {
     "name": "stdout",
     "output_type": "stream",
     "text": [
      "Required m is 0.56.\n",
      "Values of compression for random_sampler , space-based and voxel-based are: 0.780, 0.625, 0.125.\n"
     ]
    }
   ],
   "source": [
    "# Generate new combinations until a desired m value is found\n",
    "while True:\n",
    "    x, y, z = np.random.rand(3)\n",
    "    # Round off y and z to the closest number in the specified range\n",
    "    y = round(y * 8) / 8\n",
    "    z = round(z * 8) / 8\n",
    "    # Convert y and z to strings for comparison with the specified range\n",
    "    y_str = str(round(y, 3))\n",
    "    z_str = str(round(z, 3))\n",
    "    # Check if y and z are in the specified range (modified according to the scripts provided)\n",
    "    if y_str in ['0.125', '0.225', '0.325', '0.425', '0.525', '0.625', '0.725', '0.825', '0.925'] and z_str in ['0.125', '0.225', '0.325', '0.425', '0.525', '0.625', '0.725', '0.825', '0.925']:\n",
    "        predicted_m = regressor.predict([[x, y, z]])[0]\n",
    "        if abs(predicted_m - desired_m) <= 0.01:\n",
    "            print(f'Required m is {predicted_m:.2f}.')\n",
    "            print(f'Values of compression for random_sampler , space-based and voxel-based are: {x:.3f}, {y:.3f}, {z:.3f}.')\n",
    "            break\n"
   ]
  }
 ],
 "metadata": {
  "kernelspec": {
   "display_name": "base",
   "language": "python",
   "name": "python3"
  },
  "language_info": {
   "codemirror_mode": {
    "name": "ipython",
    "version": 3
   },
   "file_extension": ".py",
   "mimetype": "text/x-python",
   "name": "python",
   "nbconvert_exporter": "python",
   "pygments_lexer": "ipython3",
   "version": "3.8.8"
  },
  "orig_nbformat": 4
 },
 "nbformat": 4,
 "nbformat_minor": 2
}
